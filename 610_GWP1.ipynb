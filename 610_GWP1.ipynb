{
 "metadata": {
  "language_info": {
   "codemirror_mode": {
    "name": "ipython",
    "version": 3
   },
   "file_extension": ".py",
   "mimetype": "text/x-python",
   "name": "python",
   "nbconvert_exporter": "python",
   "pygments_lexer": "ipython3",
   "version": "3.9.1-final"
  },
  "orig_nbformat": 2,
  "kernelspec": {
   "name": "pycharm-f88d9683",
   "display_name": "PyCharm (untitled)",
   "language": "python"
  }
 },
 "nbformat": 4,
 "nbformat_minor": 2,
 "cells": [
  {
   "cell_type": "code",
   "execution_count": 2,
   "metadata": {},
   "outputs": [],
   "source": [
    "import datapackage\n",
    "import pandas as pd"
   ]
  },
  {
   "cell_type": "code",
   "execution_count": 20,
   "metadata": {},
   "outputs": [],
   "source": [
    "import quandl\n",
    "quandl.ApiConfig.api_key = \"LRXY4nKMEvp-x44yJB2m\""
   ]
  },
  {
   "cell_type": "code",
   "execution_count": null,
   "metadata": {},
   "outputs": [],
   "source": [
    "yield_df = quandl.get(\"USTREASURY/YIELD\", start_date=start_time, end_date=end_time)\n",
    "yield_df.head()"
   ]
  },
  {
   "cell_type": "code",
   "execution_count": null,
   "metadata": {},
   "outputs": [],
   "source": [
    "import yfinance as yf\n",
    "gld_df = yf.download('GLD', start_time, end_time, auto_adjust=True)\n",
    "gld_df.head()"
   ]
  },
  {
   "cell_type": "code",
   "execution_count": 40,
   "metadata": {},
   "outputs": [
    {
     "output_type": "execute_result",
     "data": {
      "text/plain": [
       "                 Open       High        Low      Close    Volume\n",
       "Date                                                            \n",
       "2008-01-02  83.559998  85.139999  83.440002  84.860001  12291100\n",
       "2008-01-03  84.870003  85.940002  84.599998  85.570000   9553900\n",
       "2008-01-04  85.339996  85.550003  84.430000  85.129997   8402200\n",
       "2008-01-07  85.239998  85.260002  84.570000  84.769997   6944300\n",
       "2008-01-08  86.279999  87.129997  86.160004  86.779999   9567900"
      ],
      "text/html": "<div>\n<style scoped>\n    .dataframe tbody tr th:only-of-type {\n        vertical-align: middle;\n    }\n\n    .dataframe tbody tr th {\n        vertical-align: top;\n    }\n\n    .dataframe thead th {\n        text-align: right;\n    }\n</style>\n<table border=\"1\" class=\"dataframe\">\n  <thead>\n    <tr style=\"text-align: right;\">\n      <th></th>\n      <th>Open</th>\n      <th>High</th>\n      <th>Low</th>\n      <th>Close</th>\n      <th>Volume</th>\n    </tr>\n    <tr>\n      <th>Date</th>\n      <th></th>\n      <th></th>\n      <th></th>\n      <th></th>\n      <th></th>\n    </tr>\n  </thead>\n  <tbody>\n    <tr>\n      <th>2008-01-02</th>\n      <td>83.559998</td>\n      <td>85.139999</td>\n      <td>83.440002</td>\n      <td>84.860001</td>\n      <td>12291100</td>\n    </tr>\n    <tr>\n      <th>2008-01-03</th>\n      <td>84.870003</td>\n      <td>85.940002</td>\n      <td>84.599998</td>\n      <td>85.570000</td>\n      <td>9553900</td>\n    </tr>\n    <tr>\n      <th>2008-01-04</th>\n      <td>85.339996</td>\n      <td>85.550003</td>\n      <td>84.430000</td>\n      <td>85.129997</td>\n      <td>8402200</td>\n    </tr>\n    <tr>\n      <th>2008-01-07</th>\n      <td>85.239998</td>\n      <td>85.260002</td>\n      <td>84.570000</td>\n      <td>84.769997</td>\n      <td>6944300</td>\n    </tr>\n    <tr>\n      <th>2008-01-08</th>\n      <td>86.279999</td>\n      <td>87.129997</td>\n      <td>86.160004</td>\n      <td>86.779999</td>\n      <td>9567900</td>\n    </tr>\n  </tbody>\n</table>\n</div>"
     },
     "metadata": {},
     "execution_count": 40
    }
   ],
   "source": [
    "Df.head()"
   ]
  },
  {
   "cell_type": "code",
   "execution_count": null,
   "metadata": {},
   "outputs": [],
   "source": []
  }
 ]
}