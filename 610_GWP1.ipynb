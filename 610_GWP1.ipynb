{
 "cells": [
  {
   "cell_type": "code",
   "execution_count": 1,
   "metadata": {},
   "outputs": [],
   "source": [
    "import pandas as pd"
   ]
  },
  {
   "cell_type": "code",
   "execution_count": 3,
   "metadata": {},
   "outputs": [
    {
     "name": "stdout",
     "output_type": "stream",
     "text": [
      "[*********************100%***********************]  1 of 1 completed\n"
     ]
    }
   ],
   "source": [
    "import yfinance as yf\n",
    "from datetime import date\n",
    "\n",
    "# get daily price TS from yahoo fin \n",
    "start_time = date.fromisoformat('2019-10-01')\n",
    "end_time = date.fromisoformat('2019-11-30')\n",
    "\n",
    "gld_df = yf.download('GLD', start_time, end_time, auto_adjust=True)\n",
    "series_gld = gld_df[['Close']]"
   ]
  },
  {
   "cell_type": "code",
   "execution_count": 4,
   "metadata": {},
   "outputs": [],
   "source": [
    "import pandas_datareader as pdr\n",
    "\n",
    "# get daily price TS data for 2yr, 3yr, 5yr, 7yr, 10yr, 30yr Treasuries from FRED\n",
    "dgs10 = pdr.get_data_fred('DGS10')\n",
    "dgs30 = pdr.get_data_fred('DGS30')\n",
    "dgs7 = pdr.get_data_fred('DGS7')\n",
    "dgs5 = pdr.get_data_fred('DGS5')\n",
    "dgs3 = pdr.get_data_fred('DGS3')\n",
    "dgs2 = pdr.get_data_fred('DGS2')\n",
    "\n",
    "# drop NAs and subset by start_time, end_time\n",
    "s10yr = dgs10[start_time: end_time].dropna().squeeze('columns')"
   ]
  },
  {
   "cell_type": "code",
   "execution_count": null,
   "metadata": {},
   "outputs": [],
   "source": []
  }
 ],
 "metadata": {
  "kernelspec": {
   "display_name": "Python 3",
   "language": "python",
   "name": "python3"
  },
  "language_info": {
   "codemirror_mode": {
    "name": "ipython",
    "version": 3
   },
   "file_extension": ".py",
   "mimetype": "text/x-python",
   "name": "python",
   "nbconvert_exporter": "python",
   "pygments_lexer": "ipython3",
   "version": "3.7.8"
  }
 },
 "nbformat": 4,
 "nbformat_minor": 2
}
