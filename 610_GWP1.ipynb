{
 "metadata": {
  "language_info": {
   "codemirror_mode": {
    "name": "ipython",
    "version": 3
   },
   "file_extension": ".py",
   "mimetype": "text/x-python",
   "name": "python",
   "nbconvert_exporter": "python",
   "pygments_lexer": "ipython3",
   "version": "3.9.1-final"
  },
  "orig_nbformat": 2,
  "kernelspec": {
   "name": "pycharm-f88d9683",
   "display_name": "PyCharm (untitled)",
   "language": "python"
  }
 },
 "nbformat": 4,
 "nbformat_minor": 2,
 "cells": [
  {
   "cell_type": "code",
   "execution_count": 2,
   "metadata": {},
   "outputs": [],
   "source": [
    "import pandas as pd"
   ]
  },
  {
   "cell_type": "code",
   "execution_count": 77,
   "metadata": {},
   "outputs": [
    {
     "output_type": "stream",
     "name": "stdout",
     "text": [
      "[*********************100%***********************]  1 of 1 completed\n"
     ]
    }
   ],
   "source": [
    "import yfinance as yf\n",
    "\n",
    "# get daily price TS from yahoo fin \n",
    "gld_df = yf.download('GLD', start_time, end_time, auto_adjust=True)\n",
    "series_gld = gld_df[['Close']]"
   ]
  },
  {
   "cell_type": "code",
   "execution_count": 76,
   "metadata": {},
   "outputs": [],
   "source": [
    "import pandas_datareader as pdr\n",
    "\n",
    "# get daily price TS data for 2yr, 3yr, 5yr, 7yr, 10yr, 30yr Treasuries from FRED\n",
    "dgs10 = pdr.get_data_fred('DGS10')\n",
    "dgs30 = pdr.get_data_fred('DGS30')\n",
    "dgs7 = pdr.get_data_fred('DGS7')\n",
    "dgs5 = pdr.get_data_fred('DGS5')\n",
    "dgs3 = pdr.get_data_fred('DGS3')\n",
    "dgs2 = pdr.get_data_fred('DGS2')\n",
    "\n",
    "# drop NAs and subset by start_time, end_time\n",
    "s10yr = dgs10[start_time: end_time].dropna().squeeze('columns')"
   ]
  }
 ]
}